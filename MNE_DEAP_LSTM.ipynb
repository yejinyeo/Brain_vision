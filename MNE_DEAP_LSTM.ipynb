{
  "cells": [
    {
      "cell_type": "code",
      "source": [
        "pwd"
      ],
      "metadata": {
        "colab": {
          "base_uri": "https://localhost:8080/",
          "height": 35
        },
        "id": "FV-p89tpw3R8",
        "outputId": "f40cef4f-29d5-4d4a-ecb5-ed231c8c5526"
      },
      "execution_count": null,
      "outputs": [
        {
          "output_type": "execute_result",
          "data": {
            "text/plain": [
              "'/content/drive/MyDrive'"
            ],
            "application/vnd.google.colaboratory.intrinsic+json": {
              "type": "string"
            }
          },
          "metadata": {},
          "execution_count": 10
        }
      ]
    },
    {
      "cell_type": "code",
      "source": [
        "from google.colab import drive\n",
        "drive.mount('/content/drive')"
      ],
      "metadata": {
        "colab": {
          "base_uri": "https://localhost:8080/"
        },
        "id": "YQ8KkQA5w5IF",
        "outputId": "c0f5a74f-c21c-4eaa-c598-a6f7692b1c8a"
      },
      "execution_count": null,
      "outputs": [
        {
          "output_type": "stream",
          "name": "stdout",
          "text": [
            "Drive already mounted at /content/drive; to attempt to forcibly remount, call drive.mount(\"/content/drive\", force_remount=True).\n"
          ]
        }
      ]
    },
    {
      "cell_type": "code",
      "source": [
        "cd drive/MyDrive"
      ],
      "metadata": {
        "colab": {
          "base_uri": "https://localhost:8080/"
        },
        "id": "9zscHfq8xClO",
        "outputId": "3a1c96f7-7e17-4bea-8a67-d10bdfa8203a"
      },
      "execution_count": null,
      "outputs": [
        {
          "output_type": "stream",
          "name": "stdout",
          "text": [
            "[Errno 2] No such file or directory: 'drive/MyDrive'\n",
            "/content/drive/MyDrive\n"
          ]
        }
      ]
    },
    {
      "cell_type": "markdown",
      "metadata": {
        "id": "3lDZscFwty8h"
      },
      "source": [
        "### .mat -> .npy"
      ]
    },
    {
      "cell_type": "code",
      "execution_count": null,
      "metadata": {
        "colab": {
          "base_uri": "https://localhost:8080/"
        },
        "id": "AM7t2Pcyty8j",
        "outputId": "f24b4d4b-157f-456a-abd3-f7a3eeaea560"
      },
      "outputs": [
        {
          "output_type": "stream",
          "name": "stdout",
          "text": [
            "['s01.mat', 's15.mat', 's29.mat', 's28.mat', 's14.mat', 's16.mat', 's02.mat', 's03.mat', 's17.mat', 's13.mat', 's07.mat', 's06.mat', 's12.mat', 's04.mat', 's10.mat', 's11.mat', 's05.mat', 's20.mat', 's08.mat', 's09.mat', 's21.mat', 's23.mat', 's22.mat', 's32.mat', 's26.mat', 's27.mat', 's19.mat', 's25.mat', 's31.mat', 's30.mat', 's24.mat', 's18.mat']\n"
          ]
        }
      ],
      "source": [
        "import os\n",
        "import numpy as np\n",
        "import matplotlib.pylab as plt\n",
        "import scipy.io\n",
        "\n",
        "mat_dir_path = os.path.join(os.getcwd(), 'DEAP','data_preprocessed_matlab')\n",
        "mat_file_list = os.listdir(mat_dir_path)\n",
        "print(mat_file_list)"
      ]
    },
    {
      "cell_type": "code",
      "execution_count": null,
      "metadata": {
        "scrolled": true,
        "colab": {
          "base_uri": "https://localhost:8080/"
        },
        "id": "-gQlYmIVty8l",
        "outputId": "a06a7f11-e751-4e57-d825-110e844bfdd7"
      },
      "outputs": [
        {
          "output_type": "stream",
          "name": "stdout",
          "text": [
            "s01.mat\n",
            "s15.mat\n",
            "s29.mat\n",
            "s28.mat\n",
            "s14.mat\n",
            "s16.mat\n",
            "s02.mat\n",
            "s03.mat\n",
            "s17.mat\n",
            "s13.mat\n",
            "s07.mat\n",
            "s06.mat\n",
            "s12.mat\n",
            "s04.mat\n",
            "s10.mat\n",
            "s11.mat\n",
            "s05.mat\n",
            "s20.mat\n",
            "s08.mat\n",
            "s09.mat\n",
            "s21.mat\n",
            "s23.mat\n",
            "s22.mat\n",
            "s32.mat\n",
            "s26.mat\n",
            "s27.mat\n",
            "s19.mat\n",
            "s25.mat\n",
            "s31.mat\n",
            "s30.mat\n",
            "s24.mat\n",
            "s18.mat\n",
            "(1280, 32, 8064)\n",
            "(1280, 4)\n"
          ]
        }
      ],
      "source": [
        "mat_data = []\n",
        "mat_target = []\n",
        "for name in mat_file_list:\n",
        "    print(name)\n",
        "    file = scipy.io.loadmat(mat_dir_path +\"/\"+ name)\n",
        "    tmp_data = np.delete(file['data'],[32,33,34,35,36,37,38,39], axis = 1)\n",
        "#     print(tmp_data.shape)\n",
        "    mat_data.extend(tmp_data)\n",
        "    mat_target.extend(file['labels'])\n",
        "#     print(tmp_data.shape)\n",
        "#     print(file['labels'].shape)\n",
        "\n",
        "mat_data = np.array(mat_data)\n",
        "mat_target = np.array(mat_target)\n",
        "print(mat_data.shape)\n",
        "print(mat_target.shape)\n",
        "\n",
        "#저장\n",
        "np.save(os.path.join(os.getcwd(),'DEAP','DEAP_data_eeg'), mat_data)\n",
        "np.save(os.path.join(os.getcwd(),'DEAP','DEAP_label'), mat_target)"
      ]
    },
    {
      "cell_type": "markdown",
      "metadata": {
        "id": "KDQH051Xty8m"
      },
      "source": [
        "## data load"
      ]
    },
    {
      "cell_type": "code",
      "execution_count": null,
      "metadata": {
        "colab": {
          "base_uri": "https://localhost:8080/"
        },
        "id": "ofgyimQHty8m",
        "outputId": "7a8408b1-ca51-4d69-8230-0e765e6baf1d"
      },
      "outputs": [
        {
          "output_type": "stream",
          "name": "stdout",
          "text": [
            "data shape : (1280, 32, 8064)\n",
            "label shape : (1280, 2)\n",
            "val shape : (1280,)\n",
            "aro shape : (1280,)\n"
          ]
        }
      ],
      "source": [
        "data = np.load('DEAP/DEAP_data_eeg.npy')\n",
        "label = np.load('DEAP/DEAP_label.npy')\n",
        "label = label[:,:2] # valence, arousal\n",
        "val, aro = label[:,0], label[:,1]\n",
        "\n",
        "print('data shape :', data.shape)\n",
        "print('label shape :', label.shape)\n",
        "print('val shape :', val.shape)\n",
        "print('aro shape :', aro.shape)"
      ]
    },
    {
      "cell_type": "markdown",
      "metadata": {
        "id": "udsBaqSxty8q"
      },
      "source": [
        "---"
      ]
    },
    {
      "cell_type": "code",
      "source": [
        "# val 0,1로 변경\n",
        "print(val)\n",
        "val = np.array([1 if i>=5 else 0 for i in val])[:32]\n",
        "print(val)"
      ],
      "metadata": {
        "colab": {
          "base_uri": "https://localhost:8080/"
        },
        "id": "uczc9KWtB6YM",
        "outputId": "db1c666c-5188-40b7-8904-9e94c97566af"
      },
      "execution_count": null,
      "outputs": [
        {
          "output_type": "stream",
          "name": "stdout",
          "text": [
            "[7.71 8.1  8.58 ... 4.51 4.06 5.  ]\n",
            "[1 1 1 0 1 1 1 1 0 0 0 0 0 0 0 1 0 1 1 1 1 1 1 1 1 1 1 0 0 0 0 0]\n"
          ]
        }
      ]
    },
    {
      "cell_type": "markdown",
      "metadata": {
        "id": "orzh8VdQty8q"
      },
      "source": [
        "### val, aro 나누기"
      ]
    },
    {
      "cell_type": "code",
      "execution_count": null,
      "metadata": {
        "colab": {
          "base_uri": "https://localhost:8080/"
        },
        "id": "TltSPv0fty8q",
        "outputId": "635020c0-dc84-4cc7-8457-60df0c38d150"
      },
      "outputs": [
        {
          "output_type": "execute_result",
          "data": {
            "text/plain": [
              "(32, 32, 8064)"
            ]
          },
          "metadata": {},
          "execution_count": 23
        }
      ],
      "source": [
        "eeg_data = data[:][:32][:]\n",
        "eeg_data.shape"
      ]
    },
    {
      "cell_type": "markdown",
      "metadata": {
        "id": "BtrCrDbbty8r"
      },
      "source": [
        "### target = val"
      ]
    },
    {
      "cell_type": "code",
      "source": [
        "# 훈련 세트와 검증 세트로 나누기\n",
        "from sklearn.model_selection import train_test_split\n",
        "train_input, test_input, train_target, test_target = train_test_split(eeg_data, val, stratify = val, random_state=42)"
      ],
      "metadata": {
        "id": "XoUx-fnV6D2e"
      },
      "execution_count": null,
      "outputs": []
    },
    {
      "cell_type": "code",
      "source": [
        "# 크기 출력하기\n",
        "print(train_input.shape, test_target.shape)"
      ],
      "metadata": {
        "colab": {
          "base_uri": "https://localhost:8080/"
        },
        "id": "RCb62gkU_fCk",
        "outputId": "c8b0b8ac-9f3d-4496-9131-4564687bb560"
      },
      "execution_count": null,
      "outputs": [
        {
          "output_type": "stream",
          "name": "stdout",
          "text": [
            "(24, 32, 8064) (8,)\n"
          ]
        }
      ]
    },
    {
      "cell_type": "markdown",
      "source": [
        "### LSTM"
      ],
      "metadata": {
        "id": "G1QwTSp1_CDs"
      }
    },
    {
      "cell_type": "code",
      "source": [
        "from tensorflow import keras\n",
        "from  keras.layers import Flatten, LSTM, Dense\n",
        "model = keras.Sequential()\n",
        "model.add(LSTM(128,input_shape=(32,8064), dropout=0.3, return_sequences=True))\n",
        "model.add(LSTM(64, dropout=0.3))\n",
        "model.add(Dense(64, activation='sigmoid'))\n",
        "model.add(Dense(1, activation='sigmoid'))\n",
        "model.compile(optimizer='adam', loss='binary_crossentropy', metrics=['accuracy'])\n",
        "model.fit(train_input, train_target, epochs=10, batch_size=32, validation_split=0.2)"
      ],
      "metadata": {
        "colab": {
          "base_uri": "https://localhost:8080/"
        },
        "id": "DsRO7JPJ_FB_",
        "outputId": "4906d364-45d0-4d0d-e96e-e4fbbbcc5375"
      },
      "execution_count": null,
      "outputs": [
        {
          "output_type": "stream",
          "name": "stdout",
          "text": [
            "Epoch 1/10\n",
            "1/1 [==============================] - 6s 6s/step - loss: 0.9607 - accuracy: 0.5263 - val_loss: 0.4935 - val_accuracy: 0.8000\n",
            "Epoch 2/10\n",
            "1/1 [==============================] - 0s 85ms/step - loss: 0.8218 - accuracy: 0.5263 - val_loss: 0.4919 - val_accuracy: 0.8000\n",
            "Epoch 3/10\n",
            "1/1 [==============================] - 0s 78ms/step - loss: 0.7245 - accuracy: 0.5263 - val_loss: 0.4899 - val_accuracy: 0.8000\n",
            "Epoch 4/10\n",
            "1/1 [==============================] - 0s 87ms/step - loss: 0.6642 - accuracy: 0.5263 - val_loss: 0.4871 - val_accuracy: 0.8000\n",
            "Epoch 5/10\n",
            "1/1 [==============================] - 0s 83ms/step - loss: 0.6000 - accuracy: 0.5263 - val_loss: 0.4844 - val_accuracy: 0.8000\n",
            "Epoch 6/10\n",
            "1/1 [==============================] - 0s 92ms/step - loss: 0.5307 - accuracy: 0.5263 - val_loss: 0.4825 - val_accuracy: 0.8000\n",
            "Epoch 7/10\n",
            "1/1 [==============================] - 0s 80ms/step - loss: 0.4765 - accuracy: 0.5263 - val_loss: 0.4819 - val_accuracy: 0.8000\n",
            "Epoch 8/10\n",
            "1/1 [==============================] - 0s 81ms/step - loss: 0.4244 - accuracy: 0.5263 - val_loss: 0.4822 - val_accuracy: 0.8000\n",
            "Epoch 9/10\n",
            "1/1 [==============================] - 0s 85ms/step - loss: 0.3736 - accuracy: 0.8947 - val_loss: 0.4837 - val_accuracy: 0.8000\n",
            "Epoch 10/10\n",
            "1/1 [==============================] - 0s 86ms/step - loss: 0.3332 - accuracy: 1.0000 - val_loss: 0.4872 - val_accuracy: 0.8000\n"
          ]
        },
        {
          "output_type": "execute_result",
          "data": {
            "text/plain": [
              "<keras.callbacks.History at 0x7b262b948d60>"
            ]
          },
          "metadata": {},
          "execution_count": 57
        }
      ]
    },
    {
      "cell_type": "code",
      "source": [
        "model.evaluate(test_input, test_target)\n",
        "model.predict(test_input)"
      ],
      "metadata": {
        "colab": {
          "base_uri": "https://localhost:8080/"
        },
        "id": "Sk9eff_IYlmE",
        "outputId": "b0659416-d176-44db-fd48-96d357f9ad35"
      },
      "execution_count": null,
      "outputs": [
        {
          "output_type": "stream",
          "name": "stdout",
          "text": [
            "1/1 [==============================] - 0s 36ms/step - loss: 0.8717 - accuracy: 0.5000\n",
            "1/1 [==============================] - 1s 860ms/step\n"
          ]
        },
        {
          "output_type": "execute_result",
          "data": {
            "text/plain": [
              "array([[0.68955666],\n",
              "       [0.72345823],\n",
              "       [0.7982828 ],\n",
              "       [0.7220266 ],\n",
              "       [0.8330263 ],\n",
              "       [0.80665326],\n",
              "       [0.79421085],\n",
              "       [0.75802565]], dtype=float32)"
            ]
          },
          "metadata": {},
          "execution_count": 58
        }
      ]
    }
  ],
  "metadata": {
    "kernelspec": {
      "display_name": "Python 3",
      "name": "python3"
    },
    "language_info": {
      "codemirror_mode": {
        "name": "ipython",
        "version": 3
      },
      "file_extension": ".py",
      "mimetype": "text/x-python",
      "name": "python",
      "nbconvert_exporter": "python",
      "pygments_lexer": "ipython3",
      "version": "3.9.12"
    },
    "colab": {
      "provenance": [],
      "gpuType": "T4"
    },
    "accelerator": "GPU"
  },
  "nbformat": 4,
  "nbformat_minor": 0
}